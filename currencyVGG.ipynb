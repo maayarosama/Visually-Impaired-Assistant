{
 "cells": [
  {
   "cell_type": "code",
   "execution_count": 1,
   "metadata": {},
   "outputs": [],
   "source": [
    "import numpy as np\n",
    "import matplotlib.pyplot as plt\n",
    "import os\n",
    "import cv2\n",
    "import random\n",
    "from tqdm import tqdm\n",
    "\n",
    "import tensorflow as tf\n",
    "from tensorflow.keras.models import Sequential\n",
    "from tensorflow.keras.layers import Dense, Activation, Flatten, Conv2D, MaxPooling2D, BatchNormalization, Dropout\n",
    "\n",
    "from sklearn.model_selection import train_test_split\n",
    "from tensorflow.keras.preprocessing.image import ImageDataGenerator"
   ]
  },
  {
   "cell_type": "code",
   "execution_count": 2,
   "metadata": {},
   "outputs": [],
   "source": [
    "DATADIR = \"C:/Users/Rawan/Desktop/CNN/Currency/\"\n",
    "CATEGORIE = [\"5\", \"10\", \"20\", \"50\", \"100\", \"200\"]\n",
    "CLASSES = {\n",
    "    '1': 0,\n",
    "    '5': 1,\n",
    "    '10': 2,\n",
    "    '20': 3,\n",
    "    '50': 4,\n",
    "    '100': 5,\n",
    "    '200': 6\n",
    "}"
   ]
  },
  {
   "cell_type": "code",
   "execution_count": 12,
   "metadata": {},
   "outputs": [
    {
     "name": "stdout",
     "output_type": "stream",
     "text": [
      "Data shape: (901, 128, 128, 3)\n",
      "Labels shape: (901,)\n"
     ]
    }
   ],
   "source": [
    "dataset = []\n",
    "\n",
    "for cat in os.listdir(DATADIR):\n",
    "    path = os.path.join(DATADIR, cat)\n",
    "    for img_path in os.listdir(path):\n",
    "        img = cv2.imread(os.path.join(path, img_path))\n",
    "        img = cv2.resize(img, (128, 128))\n",
    "        img = img / 255.0\n",
    "        \n",
    "        lab = CLASSES[cat]\n",
    "        dataset.append([img, lab])\n",
    "\n",
    "random.seed(42)\n",
    "random.shuffle(dataset)\n",
    "\n",
    "data = []\n",
    "labels = []\n",
    "\n",
    "for d, l in dataset:\n",
    "    data.append(d)\n",
    "    labels.append(l)\n",
    "\n",
    "data = np.array(data)\n",
    "labels = np.array(labels)\n",
    "    \n",
    "print(\"Data shape:\", data.shape)\n",
    "print(\"Labels shape:\", labels.shape)"
   ]
  },
  {
   "cell_type": "code",
   "execution_count": 13,
   "metadata": {},
   "outputs": [
    {
     "name": "stdout",
     "output_type": "stream",
     "text": [
      "(720, 128, 128, 3)\n",
      "(720,)\n",
      "(181, 128, 128, 3)\n",
      "(181,)\n",
      "(720, 128, 128, 3)\n"
     ]
    }
   ],
   "source": [
    "(trainX, testX, trainY, testY) = train_test_split(data, labels, test_size=0.2, random_state=42, stratify=labels)\n",
    "\n",
    "print(trainX.shape)\n",
    "print(trainY.shape)\n",
    "print(testX.shape)\n",
    "print(testY.shape)\n",
    "\n",
    "trainX.reshape((720, 128, 128, 3))\n",
    "print(trainX.shape)"
   ]
  },
  {
   "cell_type": "code",
   "execution_count": 14,
   "metadata": {},
   "outputs": [
    {
     "data": {
      "image/png": "[encoded data removed]",
      "text/plain": [
       "<Figure size 432x288 with 1 Axes>"
      ]
     },
     "metadata": {
      "needs_background": "light"
     },
     "output_type": "display_data"
    }
   ],
   "source": [
    "import seaborn as sns\n",
    "\n",
    "sns.countplot(x=labels);"
   ]
  },
  {
   "cell_type": "code",
   "execution_count": 15,
   "metadata": {},
   "outputs": [
    {
     "data": {
      "image/png": "[encoded data removed]",
      "text/plain": [
       "<Figure size 432x288 with 1 Axes>"
      ]
     },
     "metadata": {
      "needs_background": "light"
     },
     "output_type": "display_data"
    }
   ],
   "source": [
    "sns.countplot(x=trainY);"
   ]
  },
  {
   "cell_type": "code",
   "execution_count": 16,
   "metadata": {},
   "outputs": [
    {
     "data": {
      "image/png": "[encoded data removed]",
      "text/plain": [
       "<Figure size 432x288 with 1 Axes>"
      ]
     },
     "metadata": {
      "needs_background": "light"
     },
     "output_type": "display_data"
    }
   ],
   "source": [
    "sns.countplot(x=testY);"
   ]
  },
  {
   "cell_type": "code",
   "execution_count": 18,
   "metadata": {},
   "outputs": [
    {
     "name": "stdout",
     "output_type": "stream",
     "text": [
      "Downloading data from https://storage.googleapis.com/tensorflow/keras-applications/vgg16/vgg16_weights_tf_dim_ordering_tf_kernels_notop.h5\n",
      "58892288/58889256 [==============================] - 54s 1us/step\n",
      "Model: \"sequential\"\n",
      "_________________________________________________________________\n",
      "Layer (type)                 Output Shape              Param #   \n",
      "=================================================================\n",
      "vgg16 (Functional)           (None, 4, 4, 512)         14714688  \n",
      "_________________________________________________________________\n",
      "global_average_pooling2d (Gl (None, 512)               0         \n",
      "_________________________________________________________________\n",
      "dense (Dense)                (None, 7)                 3591      \n",
      "=================================================================\n",
      "Total params: 14,718,279\n",
      "Trainable params: 3,591\n",
      "Non-trainable params: 14,714,688\n",
      "_________________________________________________________________\n"
     ]
    }
   ],
   "source": [
    "def create_model(input_shape):\n",
    "\n",
    "    model= Sequential()\n",
    "\n",
    "    model.add(Conv2D(64,(3,3), padding='same', input_shape = input_shape))\n",
    "    #model.add(BatchNormalization())\n",
    "    model.add(Activation(\"relu\"))\n",
    "    model.add(MaxPooling2D(pool_size=(2,2)))\n",
    "\n",
    "    model.add(Conv2D(128, (3,3), padding='same'))\n",
    "    #model.add(BatchNormalization())\n",
    "    model.add(Activation(\"relu\"))\n",
    "    model.add(MaxPooling2D(pool_size=(2,2)))\n",
    "\n",
    "    model.add(Conv2D(256, (3,3), padding='same'))\n",
    "    #model.add(BatchNormalization())\n",
    "    model.add(Activation(\"relu\"))\n",
    "    model.add(MaxPooling2D(pool_size=(2,2)))\n",
    "\n",
    "    model.add(Flatten())\n",
    "    model.add(Dense(64))\n",
    "    model.add(Dropout(0.5))\n",
    "\n",
    "    model.add(Dense(len(CLASSES)))\n",
    "    model.add(Activation('softmax'))\n",
    "    \n",
    "    return model\n",
    "\n",
    "def create_vgg(input_shape):\n",
    "    base_model = tf.keras.applications.VGG16(include_top=False, input_shape=input_shape)\n",
    "    base_model.trainable = False\n",
    "    \n",
    "    model = tf.keras.Sequential([\n",
    "        base_model,\n",
    "        tf.keras.layers.GlobalAveragePooling2D(),\n",
    "        tf.keras.layers.Dense(len(CLASSES), activation='softmax')\n",
    "    ])\n",
    "    \n",
    "    return model\n",
    "\n",
    "#model = create_model(data.shape[1:])\n",
    "model = create_vgg(data.shape[1:])\n",
    "\n",
    "model.compile(loss='sparse_categorical_crossentropy', optimizer='adam', metrics=['accuracy'])\n",
    "\n",
    "aug = ImageDataGenerator(rotation_range=25, width_shift_range=0.1, \n",
    "                         height_shift_range=0.1, shear_range=0.2, zoom_range=0.2, \n",
    "                         horizontal_flip=True, fill_mode=\"nearest\")\n",
    "\n",
    "model.summary()"
   ]
  },
  {
   "cell_type": "code",
   "execution_count": 23,
   "metadata": {},
   "outputs": [
    {
     "name": "stdout",
     "output_type": "stream",
     "text": [
      "Epoch 1/20\n",
      "22/22 [==============================] - 60s 3s/step - loss: 1.7531 - accuracy: 0.3198 - val_loss: 1.7447 - val_accuracy: 0.3094\n",
      "Epoch 2/20\n",
      "22/22 [==============================] - 60s 3s/step - loss: 1.7194 - accuracy: 0.3517 - val_loss: 1.7196 - val_accuracy: 0.3536\n",
      "Epoch 3/20\n",
      "22/22 [==============================] - 60s 3s/step - loss: 1.7089 - accuracy: 0.3634 - val_loss: 1.6994 - val_accuracy: 0.3425\n",
      "Epoch 4/20\n",
      "22/22 [==============================] - 60s 3s/step - loss: 1.6835 - accuracy: 0.3895 - val_loss: 1.6747 - val_accuracy: 0.3812\n",
      "Epoch 5/20\n",
      "22/22 [==============================] - 60s 3s/step - loss: 1.6576 - accuracy: 0.3881 - val_loss: 1.6584 - val_accuracy: 0.3646\n",
      "Epoch 6/20\n",
      "22/22 [==============================] - 62s 3s/step - loss: 1.6343 - accuracy: 0.3968 - val_loss: 1.6377 - val_accuracy: 0.3757\n",
      "Epoch 7/20\n",
      "22/22 [==============================] - 61s 3s/step - loss: 1.6317 - accuracy: 0.4012 - val_loss: 1.6244 - val_accuracy: 0.3812\n",
      "Epoch 8/20\n",
      "22/22 [==============================] - 59s 3s/step - loss: 1.6100 - accuracy: 0.4302 - val_loss: 1.6080 - val_accuracy: 0.4420\n",
      "Epoch 9/20\n",
      "22/22 [==============================] - 60s 3s/step - loss: 1.5901 - accuracy: 0.4142 - val_loss: 1.5945 - val_accuracy: 0.4033\n",
      "Epoch 10/20\n",
      "22/22 [==============================] - 60s 3s/step - loss: 1.5806 - accuracy: 0.4186 - val_loss: 1.5794 - val_accuracy: 0.4199\n",
      "Epoch 11/20\n",
      "22/22 [==============================] - 63s 3s/step - loss: 1.5535 - accuracy: 0.4578 - val_loss: 1.5721 - val_accuracy: 0.4365\n",
      "Epoch 12/20\n",
      "22/22 [==============================] - 60s 3s/step - loss: 1.5433 - accuracy: 0.4593 - val_loss: 1.5556 - val_accuracy: 0.4586\n",
      "Epoch 13/20\n",
      "22/22 [==============================] - 60s 3s/step - loss: 1.5349 - accuracy: 0.4578 - val_loss: 1.5478 - val_accuracy: 0.4199\n",
      "Epoch 14/20\n",
      "22/22 [==============================] - 60s 3s/step - loss: 1.5337 - accuracy: 0.4375 - val_loss: 1.5353 - val_accuracy: 0.4365\n",
      "Epoch 15/20\n",
      "22/22 [==============================] - 60s 3s/step - loss: 1.5140 - accuracy: 0.4608 - val_loss: 1.5242 - val_accuracy: 0.4696\n",
      "Epoch 16/20\n",
      "22/22 [==============================] - 60s 3s/step - loss: 1.5081 - accuracy: 0.4767 - val_loss: 1.5164 - val_accuracy: 0.4641\n",
      "Epoch 17/20\n",
      "22/22 [==============================] - 61s 3s/step - loss: 1.5027 - accuracy: 0.4869 - val_loss: 1.5059 - val_accuracy: 0.4751\n",
      "Epoch 18/20\n",
      "22/22 [==============================] - 60s 3s/step - loss: 1.4767 - accuracy: 0.5087 - val_loss: 1.4997 - val_accuracy: 0.4475\n",
      "Epoch 19/20\n",
      "22/22 [==============================] - 67s 3s/step - loss: 1.4616 - accuracy: 0.5015 - val_loss: 1.4869 - val_accuracy: 0.4641\n",
      "Epoch 20/20\n",
      "22/22 [==============================] - 71s 3s/step - loss: 1.4585 - accuracy: 0.4956 - val_loss: 1.4839 - val_accuracy: 0.4641\n"
     ]
    }
   ],
   "source": [
    "EPOCHS = 20\n",
    "\n",
    "H = model.fit(aug.flow(trainX, trainY, batch_size=32), \n",
    "             validation_data=(testX, testY), \n",
    "             steps_per_epoch=len(trainX) // 32,\n",
    "             epochs=EPOCHS, verbose=1)\n"
   ]
  },
  {
   "cell_type": "code",
   "execution_count": 24,
   "metadata": {},
   "outputs": [
    {
     "data": {
      "image/png": "[encoded data removed]",
      "text/plain": [
       "<Figure size 432x288 with 1 Axes>"
      ]
     },
     "metadata": {},
     "output_type": "display_data"
    }
   ],
   "source": [
    "plt.style.use(\"ggplot\")\n",
    "plt.figure()\n",
    "N = EPOCHS\n",
    "plt.plot(np.arange(0, N), H.history[\"loss\"], label=\"train_loss\")\n",
    "plt.plot(np.arange(0, N), H.history[\"val_loss\"], label=\"val_loss\")\n",
    "plt.plot(np.arange(0, N), H.history[\"accuracy\"], label=\"train_acc\")\n",
    "plt.plot(np.arange(0, N), H.history[\"val_accuracy\"], label=\"val_acc\")\n",
    "plt.title(\"Training Loss and Accuracy\")\n",
    "plt.xlabel(\"Epoch #\")\n",
    "plt.ylabel(\"Loss/Accuracy\")\n",
    "plt.legend(loc=\"upper left\");"
   ]
  },
  {
   "cell_type": "code",
   "execution_count": 22,
   "metadata": {},
   "outputs": [
    {
     "name": "stdout",
     "output_type": "stream",
     "text": [
      "              precision    recall  f1-score   support\n",
      "\n",
      "           1       0.00      0.00      0.00        18\n",
      "           5       0.00      0.00      0.00        18\n",
      "          10       0.00      0.00      0.00        23\n",
      "          20       0.25      0.21      0.23        33\n",
      "          50       0.00      0.00      0.00        14\n",
      "         100       0.22      0.53      0.31        38\n",
      "         200       0.37      0.59      0.45        37\n",
      "\n",
      "    accuracy                           0.27       181\n",
      "   macro avg       0.12      0.19      0.14       181\n",
      "weighted avg       0.17      0.27      0.20       181\n",
      "\n"
     ]
    }
   ],
   "source": [
    "from sklearn.metrics import classification_report\n",
    "\n",
    "preds = model.predict(testX)\n",
    "predIdxs = np.argmax(preds, axis=1)\n",
    "\n",
    "print(classification_report(testY, predIdxs, target_names=CLASSES.keys()))"
   ]
  },
  {
   "cell_type": "code",
   "execution_count": null,
   "metadata": {},
   "outputs": [],
   "source": []
  }
 ],
 "metadata": {
  "kernelspec": {
   "display_name": "Python 3",
   "language": "python",
   "name": "python3"
  },
  "language_info": {
   "codemirror_mode": {
    "name": "ipython",
    "version": 3
   },
   "file_extension": ".py",
   "mimetype": "text/x-python",
   "name": "python",
   "nbconvert_exporter": "python",
   "pygments_lexer": "ipython3",
   "version": "3.8.5"
  }
 },
 "nbformat": 4,
 "nbformat_minor": 4
}
