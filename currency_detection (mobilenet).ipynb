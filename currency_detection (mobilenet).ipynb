{
 "cells": [
  {
   "cell_type": "code",
   "execution_count": 1,
   "metadata": {},
   "outputs": [],
   "source": [
    "import numpy as np\n",
    "import matplotlib.pyplot as plt\n",
    "import os\n",
    "import cv2\n",
    "import random\n",
    "from tqdm import tqdm\n",
    "\n",
    "import tensorflow as tf\n",
    "from tensorflow.keras.models import Sequential\n",
    "from tensorflow.keras.layers import Dense, Activation, Flatten, Conv2D, MaxPooling2D, BatchNormalization, Dropout\n",
    "\n",
    "from sklearn.model_selection import train_test_split\n",
    "from tensorflow.keras.preprocessing.image import ImageDataGenerator"
   ]
  },
  {
   "cell_type": "code",
   "execution_count": 2,
   "metadata": {},
   "outputs": [],
   "source": [
    "DATADIR = \"C:/Users/Rawan/Desktop/Classification-Flutter-TFlite-master/Currency/\"\n",
    "CATEGORIE = [\"5\", \"10\", \"20\", \"50\", \"100\", \"200\"]\n",
    "CLASSES = {\n",
    "    '1': 0,\n",
    "    '5': 1,\n",
    "    '10': 2,\n",
    "    '20': 3,\n",
    "    '50': 4,\n",
    "    '100': 5,\n",
    "    '200': 6\n",
    "}"
   ]
  },
  {
   "cell_type": "code",
   "execution_count": 3,
   "metadata": {},
   "outputs": [
    {
     "name": "stdout",
     "output_type": "stream",
     "text": [
      "Data shape: (901, 128, 128, 3)\n",
      "Labels shape: (901,)\n"
     ]
    }
   ],
   "source": [
    "dataset = []\n",
    "\n",
    "for cat in os.listdir(DATADIR):\n",
    "    path = os.path.join(DATADIR, cat)\n",
    "    for img_path in os.listdir(path):\n",
    "        img = cv2.imread(os.path.join(path, img_path))\n",
    "        img = cv2.resize(img, (128, 128))\n",
    "        img = img / 255.0\n",
    "        \n",
    "        lab = CLASSES[cat]\n",
    "        dataset.append([img, lab])\n",
    "\n",
    "random.seed(42)\n",
    "random.shuffle(dataset)\n",
    "\n",
    "data = []\n",
    "labels = []\n",
    "\n",
    "for d, l in dataset:\n",
    "    data.append(d)\n",
    "    labels.append(l)\n",
    "\n",
    "data = np.array(data)\n",
    "labels = np.array(labels)\n",
    "    \n",
    "print(\"Data shape:\", data.shape)\n",
    "print(\"Labels shape:\", labels.shape)"
   ]
  },
  {
   "cell_type": "code",
   "execution_count": 4,
   "metadata": {},
   "outputs": [
    {
     "name": "stdout",
     "output_type": "stream",
     "text": [
      "(720, 128, 128, 3)\n",
      "(720,)\n",
      "(181, 128, 128, 3)\n",
      "(181,)\n"
     ]
    }
   ],
   "source": [
    "(trainX, testX, trainY, testY) = train_test_split(data, labels, test_size=0.2, random_state=42, stratify=labels)\n",
    "\n",
    "print(trainX.shape)\n",
    "print(trainY.shape)\n",
    "print(testX.shape)\n",
    "print(testY.shape)"
   ]
  },
  {
   "cell_type": "code",
   "execution_count": 5,
   "metadata": {},
   "outputs": [
    {
     "data": {
      "image/png": "[encoded data removed]",
      "text/plain": [
       "<Figure size 432x288 with 1 Axes>"
      ]
     },
     "metadata": {
      "needs_background": "light"
     },
     "output_type": "display_data"
    }
   ],
   "source": [
    "import seaborn as sns\n",
    "\n",
    "sns.countplot(x=labels);"
   ]
  },
  {
   "cell_type": "code",
   "execution_count": 6,
   "metadata": {},
   "outputs": [
    {
     "data": {
      "image/png": "[encoded data removed]",
      "text/plain": [
       "<Figure size 432x288 with 1 Axes>"
      ]
     },
     "metadata": {
      "needs_background": "light"
     },
     "output_type": "display_data"
    }
   ],
   "source": [
    "sns.countplot(x=trainY);"
   ]
  },
  {
   "cell_type": "code",
   "execution_count": 7,
   "metadata": {},
   "outputs": [
    {
     "data": {
      "image/png": "[encoded data removed]",
      "text/plain": [
       "<Figure size 432x288 with 1 Axes>"
      ]
     },
     "metadata": {
      "needs_background": "light"
     },
     "output_type": "display_data"
    }
   ],
   "source": [
    "sns.countplot(x=testY);"
   ]
  },
  {
   "cell_type": "code",
   "execution_count": 8,
   "metadata": {},
   "outputs": [
    {
     "name": "stdout",
     "output_type": "stream",
     "text": [
      "Model: \"sequential\"\n",
      "_________________________________________________________________\n",
      "Layer (type)                 Output Shape              Param #   \n",
      "=================================================================\n",
      "mobilenetv2_1.00_128 (Functi (None, 4, 4, 1280)        2257984   \n",
      "_________________________________________________________________\n",
      "global_average_pooling2d (Gl (None, 1280)              0         \n",
      "_________________________________________________________________\n",
      "dense (Dense)                (None, 7)                 8967      \n",
      "=================================================================\n",
      "Total params: 2,266,951\n",
      "Trainable params: 8,967\n",
      "Non-trainable params: 2,257,984\n",
      "_________________________________________________________________\n"
     ]
    }
   ],
   "source": [
    "def create_model(input_shape):\n",
    "\n",
    "    model= Sequential()\n",
    "\n",
    "    model.add(Conv2D(64,(3,3), padding='same', input_shape = input_shape))\n",
    "    #model.add(BatchNormalization())\n",
    "    model.add(Activation(\"relu\"))\n",
    "    model.add(MaxPooling2D(pool_size=(2,2)))\n",
    "\n",
    "    model.add(Conv2D(128, (3,3), padding='same'))\n",
    "    #model.add(BatchNormalization())\n",
    "    model.add(Activation(\"relu\"))\n",
    "    model.add(MaxPooling2D(pool_size=(2,2)))\n",
    "\n",
    "    model.add(Conv2D(256, (3,3), padding='same'))\n",
    "    #model.add(BatchNormalization())\n",
    "    model.add(Activation(\"relu\"))\n",
    "    model.add(MaxPooling2D(pool_size=(2,2)))\n",
    "\n",
    "    model.add(Flatten())\n",
    "    model.add(Dense(64))\n",
    "    model.add(Dropout(0.5))\n",
    "\n",
    "    model.add(Dense(len(CLASSES)))\n",
    "    model.add(Activation('softmax'))\n",
    "    \n",
    "    return model\n",
    "\n",
    "def create_mobilenet(input_shape):\n",
    "    base_model = tf.keras.applications.MobileNetV2(include_top=False, input_shape=input_shape)\n",
    "    base_model.trainable = False\n",
    "    \n",
    "    model = tf.keras.Sequential([\n",
    "        base_model,\n",
    "        tf.keras.layers.GlobalAveragePooling2D(),\n",
    "        tf.keras.layers.Dense(len(CLASSES), activation='softmax')\n",
    "    ])\n",
    "    \n",
    "    return model\n",
    "\n",
    "#model = create_model(data.shape[1:])\n",
    "model = create_mobilenet(data.shape[1:])\n",
    "\n",
    "model.compile(loss='sparse_categorical_crossentropy', optimizer='adam', metrics=['accuracy'])\n",
    "\n",
    "aug = ImageDataGenerator(rotation_range=25, width_shift_range=0.1, \n",
    "                         height_shift_range=0.1, shear_range=0.2, zoom_range=0.2, \n",
    "                         horizontal_flip=True, fill_mode=\"nearest\")\n",
    "\n",
    "model.summary()"
   ]
  },
  {
   "cell_type": "code",
   "execution_count": 9,
   "metadata": {},
   "outputs": [
    {
     "name": "stdout",
     "output_type": "stream",
     "text": [
      "Epoch 1/80\n",
      "22/22 [==============================] - 37s 1s/step - loss: 2.2798 - accuracy: 0.1681 - val_loss: 1.6788 - val_accuracy: 0.3702\n",
      "Epoch 2/80\n",
      "22/22 [==============================] - 16s 709ms/step - loss: 1.5835 - accuracy: 0.3553 - val_loss: 1.4306 - val_accuracy: 0.4475\n",
      "Epoch 3/80\n",
      "22/22 [==============================] - 15s 686ms/step - loss: 1.3194 - accuracy: 0.5246 - val_loss: 1.3230 - val_accuracy: 0.5083\n",
      "Epoch 4/80\n",
      "22/22 [==============================] - 15s 677ms/step - loss: 1.3141 - accuracy: 0.5482 - val_loss: 1.2447 - val_accuracy: 0.5525\n",
      "Epoch 5/80\n",
      "22/22 [==============================] - 14s 617ms/step - loss: 1.1549 - accuracy: 0.6204 - val_loss: 1.1695 - val_accuracy: 0.5967\n",
      "Epoch 6/80\n",
      "22/22 [==============================] - 15s 674ms/step - loss: 1.1016 - accuracy: 0.6061 - val_loss: 1.1474 - val_accuracy: 0.6077\n",
      "Epoch 7/80\n",
      "22/22 [==============================] - 15s 664ms/step - loss: 0.9735 - accuracy: 0.6323 - val_loss: 1.1236 - val_accuracy: 0.6354\n",
      "Epoch 8/80\n",
      "22/22 [==============================] - 15s 664ms/step - loss: 0.9665 - accuracy: 0.6662 - val_loss: 1.0657 - val_accuracy: 0.6298\n",
      "Epoch 9/80\n",
      "22/22 [==============================] - 16s 705ms/step - loss: 0.8481 - accuracy: 0.7212 - val_loss: 1.0795 - val_accuracy: 0.6022\n",
      "Epoch 10/80\n",
      "22/22 [==============================] - 16s 712ms/step - loss: 0.8458 - accuracy: 0.7239 - val_loss: 1.0070 - val_accuracy: 0.6851\n",
      "Epoch 11/80\n",
      "22/22 [==============================] - 15s 677ms/step - loss: 0.8024 - accuracy: 0.7255 - val_loss: 1.0033 - val_accuracy: 0.6796\n",
      "Epoch 12/80\n",
      "22/22 [==============================] - 14s 634ms/step - loss: 0.7638 - accuracy: 0.7393 - val_loss: 0.9694 - val_accuracy: 0.6685\n",
      "Epoch 13/80\n",
      "22/22 [==============================] - 14s 619ms/step - loss: 0.7346 - accuracy: 0.7555 - val_loss: 0.9835 - val_accuracy: 0.6630\n",
      "Epoch 14/80\n",
      "22/22 [==============================] - 14s 617ms/step - loss: 0.6853 - accuracy: 0.7847 - val_loss: 0.9988 - val_accuracy: 0.6409\n",
      "Epoch 15/80\n",
      "22/22 [==============================] - 14s 651ms/step - loss: 0.7207 - accuracy: 0.7664 - val_loss: 1.0060 - val_accuracy: 0.6519\n",
      "Epoch 16/80\n",
      "22/22 [==============================] - 14s 649ms/step - loss: 0.6761 - accuracy: 0.7883 - val_loss: 0.9583 - val_accuracy: 0.6464\n",
      "Epoch 17/80\n",
      "22/22 [==============================] - 14s 625ms/step - loss: 0.6753 - accuracy: 0.7696 - val_loss: 0.9152 - val_accuracy: 0.6906\n",
      "Epoch 18/80\n",
      "22/22 [==============================] - 14s 611ms/step - loss: 0.6179 - accuracy: 0.8067 - val_loss: 0.9771 - val_accuracy: 0.6851\n",
      "Epoch 19/80\n",
      "22/22 [==============================] - 14s 633ms/step - loss: 0.6003 - accuracy: 0.7938 - val_loss: 0.9108 - val_accuracy: 0.6685\n",
      "Epoch 20/80\n",
      "22/22 [==============================] - 14s 614ms/step - loss: 0.5637 - accuracy: 0.8339 - val_loss: 0.9244 - val_accuracy: 0.6796\n",
      "Epoch 21/80\n",
      "22/22 [==============================] - 14s 628ms/step - loss: 0.6149 - accuracy: 0.8237 - val_loss: 0.8889 - val_accuracy: 0.7182\n",
      "Epoch 22/80\n",
      "22/22 [==============================] - 14s 619ms/step - loss: 0.6315 - accuracy: 0.7732 - val_loss: 0.9239 - val_accuracy: 0.6796\n",
      "Epoch 23/80\n",
      "22/22 [==============================] - 14s 620ms/step - loss: 0.5383 - accuracy: 0.8491 - val_loss: 0.9225 - val_accuracy: 0.6630\n",
      "Epoch 24/80\n",
      "22/22 [==============================] - 14s 616ms/step - loss: 0.4978 - accuracy: 0.8607 - val_loss: 0.9099 - val_accuracy: 0.6961\n",
      "Epoch 25/80\n",
      "22/22 [==============================] - 13s 605ms/step - loss: 0.5044 - accuracy: 0.8430 - val_loss: 0.9504 - val_accuracy: 0.6630\n",
      "Epoch 26/80\n",
      "22/22 [==============================] - 15s 680ms/step - loss: 0.5618 - accuracy: 0.8139 - val_loss: 0.9026 - val_accuracy: 0.6906\n",
      "Epoch 27/80\n",
      "22/22 [==============================] - 14s 613ms/step - loss: 0.4867 - accuracy: 0.8411 - val_loss: 0.8800 - val_accuracy: 0.7403\n",
      "Epoch 28/80\n",
      "22/22 [==============================] - 13s 608ms/step - loss: 0.4778 - accuracy: 0.8606 - val_loss: 0.9148 - val_accuracy: 0.6630\n",
      "Epoch 29/80\n",
      "22/22 [==============================] - 15s 659ms/step - loss: 0.4761 - accuracy: 0.8617 - val_loss: 0.8752 - val_accuracy: 0.7017\n",
      "Epoch 30/80\n",
      "22/22 [==============================] - 14s 612ms/step - loss: 0.4818 - accuracy: 0.8613 - val_loss: 0.9141 - val_accuracy: 0.6630\n",
      "Epoch 31/80\n",
      "22/22 [==============================] - 14s 639ms/step - loss: 0.4566 - accuracy: 0.8618 - val_loss: 0.8931 - val_accuracy: 0.6740\n",
      "Epoch 32/80\n",
      "22/22 [==============================] - 14s 638ms/step - loss: 0.4253 - accuracy: 0.8708 - val_loss: 0.8870 - val_accuracy: 0.6961\n",
      "Epoch 33/80\n",
      "22/22 [==============================] - 14s 627ms/step - loss: 0.4715 - accuracy: 0.8483 - val_loss: 0.9044 - val_accuracy: 0.6685\n",
      "Epoch 34/80\n",
      "22/22 [==============================] - 14s 631ms/step - loss: 0.4350 - accuracy: 0.8569 - val_loss: 0.9195 - val_accuracy: 0.6685\n",
      "Epoch 35/80\n",
      "22/22 [==============================] - 14s 628ms/step - loss: 0.4159 - accuracy: 0.8892 - val_loss: 0.8922 - val_accuracy: 0.6961\n",
      "Epoch 36/80\n",
      "22/22 [==============================] - 14s 634ms/step - loss: 0.4348 - accuracy: 0.8717 - val_loss: 0.8772 - val_accuracy: 0.7017\n",
      "Epoch 37/80\n",
      "22/22 [==============================] - 14s 629ms/step - loss: 0.4099 - accuracy: 0.9052 - val_loss: 0.8748 - val_accuracy: 0.7017\n",
      "Epoch 38/80\n",
      "22/22 [==============================] - 15s 671ms/step - loss: 0.4267 - accuracy: 0.8754 - val_loss: 0.8317 - val_accuracy: 0.7348\n",
      "Epoch 39/80\n",
      "22/22 [==============================] - 14s 639ms/step - loss: 0.4451 - accuracy: 0.8660 - val_loss: 0.9497 - val_accuracy: 0.6575\n",
      "Epoch 40/80\n",
      "22/22 [==============================] - 14s 636ms/step - loss: 0.4254 - accuracy: 0.8766 - val_loss: 0.8489 - val_accuracy: 0.7127\n",
      "Epoch 41/80\n",
      "22/22 [==============================] - 14s 644ms/step - loss: 0.4155 - accuracy: 0.8720 - val_loss: 0.8846 - val_accuracy: 0.6961\n",
      "Epoch 42/80\n",
      "22/22 [==============================] - 16s 722ms/step - loss: 0.4137 - accuracy: 0.8813 - val_loss: 0.8568 - val_accuracy: 0.7017\n",
      "Epoch 43/80\n",
      "22/22 [==============================] - 15s 664ms/step - loss: 0.3975 - accuracy: 0.8761 - val_loss: 0.8492 - val_accuracy: 0.7238\n",
      "Epoch 44/80\n",
      "22/22 [==============================] - 14s 631ms/step - loss: 0.3990 - accuracy: 0.8682 - val_loss: 0.8476 - val_accuracy: 0.7182\n",
      "Epoch 45/80\n",
      "22/22 [==============================] - 14s 628ms/step - loss: 0.4151 - accuracy: 0.8827 - val_loss: 0.8846 - val_accuracy: 0.7072\n",
      "Epoch 46/80\n",
      "22/22 [==============================] - 14s 639ms/step - loss: 0.4030 - accuracy: 0.8783 - val_loss: 0.8616 - val_accuracy: 0.7182\n",
      "Epoch 47/80\n",
      "22/22 [==============================] - 14s 633ms/step - loss: 0.3543 - accuracy: 0.9034 - val_loss: 0.8766 - val_accuracy: 0.6961\n",
      "Epoch 48/80\n",
      "22/22 [==============================] - 14s 617ms/step - loss: 0.3700 - accuracy: 0.8837 - val_loss: 0.8705 - val_accuracy: 0.6961\n",
      "Epoch 49/80\n",
      "22/22 [==============================] - 14s 629ms/step - loss: 0.3670 - accuracy: 0.8695 - val_loss: 0.8386 - val_accuracy: 0.7293\n",
      "Epoch 50/80\n",
      "22/22 [==============================] - 15s 671ms/step - loss: 0.3592 - accuracy: 0.8847 - val_loss: 0.8247 - val_accuracy: 0.7514\n",
      "Epoch 51/80\n",
      "22/22 [==============================] - 13s 597ms/step - loss: 0.3602 - accuracy: 0.8976 - val_loss: 0.8107 - val_accuracy: 0.7348\n",
      "Epoch 52/80\n",
      "22/22 [==============================] - 13s 601ms/step - loss: 0.3222 - accuracy: 0.9202 - val_loss: 0.8906 - val_accuracy: 0.6961\n",
      "Epoch 53/80\n",
      "22/22 [==============================] - 13s 583ms/step - loss: 0.3265 - accuracy: 0.9112 - val_loss: 0.8302 - val_accuracy: 0.7127\n",
      "Epoch 54/80\n",
      "22/22 [==============================] - 13s 587ms/step - loss: 0.3336 - accuracy: 0.9055 - val_loss: 0.8546 - val_accuracy: 0.7403\n",
      "Epoch 55/80\n",
      "22/22 [==============================] - 39s 2s/step - loss: 0.3371 - accuracy: 0.8879 - val_loss: 0.8321 - val_accuracy: 0.7514\n",
      "Epoch 56/80\n",
      "22/22 [==============================] - 13s 582ms/step - loss: 0.3606 - accuracy: 0.8827 - val_loss: 0.8056 - val_accuracy: 0.7569\n",
      "Epoch 57/80\n",
      "22/22 [==============================] - 13s 597ms/step - loss: 0.3829 - accuracy: 0.8685 - val_loss: 0.8602 - val_accuracy: 0.7293\n"
     ]
    },
    {
     "name": "stdout",
     "output_type": "stream",
     "text": [
      "Epoch 58/80\n",
      "22/22 [==============================] - 13s 617ms/step - loss: 0.2882 - accuracy: 0.9474 - val_loss: 0.7890 - val_accuracy: 0.7403\n",
      "Epoch 59/80\n",
      "22/22 [==============================] - 13s 575ms/step - loss: 0.3108 - accuracy: 0.9121 - val_loss: 0.8332 - val_accuracy: 0.7680\n",
      "Epoch 60/80\n",
      "22/22 [==============================] - 13s 580ms/step - loss: 0.3487 - accuracy: 0.8954 - val_loss: 0.8376 - val_accuracy: 0.7403\n",
      "Epoch 61/80\n",
      "22/22 [==============================] - 13s 583ms/step - loss: 0.3153 - accuracy: 0.9048 - val_loss: 0.8264 - val_accuracy: 0.7459\n",
      "Epoch 62/80\n",
      "22/22 [==============================] - 13s 587ms/step - loss: 0.3024 - accuracy: 0.9108 - val_loss: 0.8625 - val_accuracy: 0.7182\n",
      "Epoch 63/80\n",
      "22/22 [==============================] - 13s 578ms/step - loss: 0.3002 - accuracy: 0.9168 - val_loss: 0.8831 - val_accuracy: 0.7238\n",
      "Epoch 64/80\n",
      "22/22 [==============================] - 13s 581ms/step - loss: 0.3664 - accuracy: 0.8844 - val_loss: 0.8473 - val_accuracy: 0.7514\n",
      "Epoch 65/80\n",
      "22/22 [==============================] - 13s 576ms/step - loss: 0.3030 - accuracy: 0.9186 - val_loss: 0.8579 - val_accuracy: 0.7182\n",
      "Epoch 66/80\n",
      "22/22 [==============================] - 13s 579ms/step - loss: 0.2850 - accuracy: 0.9202 - val_loss: 0.9015 - val_accuracy: 0.7017\n",
      "Epoch 67/80\n",
      "22/22 [==============================] - 13s 598ms/step - loss: 0.3062 - accuracy: 0.9181 - val_loss: 0.8515 - val_accuracy: 0.7238\n",
      "Epoch 68/80\n",
      "22/22 [==============================] - 13s 586ms/step - loss: 0.2993 - accuracy: 0.9169 - val_loss: 0.8364 - val_accuracy: 0.7403\n",
      "Epoch 69/80\n",
      "22/22 [==============================] - 13s 582ms/step - loss: 0.2936 - accuracy: 0.9104 - val_loss: 0.9004 - val_accuracy: 0.7017\n",
      "Epoch 70/80\n",
      "22/22 [==============================] - 13s 599ms/step - loss: 0.3162 - accuracy: 0.8989 - val_loss: 0.8166 - val_accuracy: 0.7569\n",
      "Epoch 71/80\n",
      "22/22 [==============================] - 13s 584ms/step - loss: 0.3027 - accuracy: 0.9209 - val_loss: 0.8503 - val_accuracy: 0.7293\n",
      "Epoch 72/80\n",
      "22/22 [==============================] - 13s 584ms/step - loss: 0.2810 - accuracy: 0.9383 - val_loss: 0.8980 - val_accuracy: 0.7348\n",
      "Epoch 73/80\n",
      "22/22 [==============================] - 13s 588ms/step - loss: 0.2909 - accuracy: 0.9214 - val_loss: 0.8735 - val_accuracy: 0.7403\n",
      "Epoch 74/80\n",
      "22/22 [==============================] - 13s 592ms/step - loss: 0.2706 - accuracy: 0.9148 - val_loss: 0.7901 - val_accuracy: 0.7624\n",
      "Epoch 75/80\n",
      "22/22 [==============================] - 14s 642ms/step - loss: 0.3098 - accuracy: 0.9076 - val_loss: 0.9110 - val_accuracy: 0.7182\n",
      "Epoch 76/80\n",
      "22/22 [==============================] - 14s 632ms/step - loss: 0.2300 - accuracy: 0.9380 - val_loss: 0.8822 - val_accuracy: 0.7293\n",
      "Epoch 77/80\n",
      "22/22 [==============================] - 14s 627ms/step - loss: 0.2770 - accuracy: 0.9105 - val_loss: 0.8633 - val_accuracy: 0.7348\n",
      "Epoch 78/80\n",
      "22/22 [==============================] - 14s 626ms/step - loss: 0.2520 - accuracy: 0.9287 - val_loss: 0.8630 - val_accuracy: 0.7293\n",
      "Epoch 79/80\n",
      "22/22 [==============================] - 14s 618ms/step - loss: 0.2768 - accuracy: 0.9052 - val_loss: 0.8779 - val_accuracy: 0.7348\n",
      "Epoch 80/80\n",
      "22/22 [==============================] - 14s 638ms/step - loss: 0.2912 - accuracy: 0.9225 - val_loss: 0.9182 - val_accuracy: 0.6906\n"
     ]
    }
   ],
   "source": [
    "EPOCHS = 80\n",
    "\n",
    "H = model.fit(aug.flow(trainX, trainY, batch_size=32), \n",
    "             validation_data=(testX, testY), \n",
    "             steps_per_epoch=len(trainX) // 32,\n",
    "             epochs=EPOCHS, verbose=1)\n",
    "\n",
    "#H = model.fit(trainX, trainY, validation_data=(testX, testY), epochs=20, verbose=1)"
   ]
  },
  {
   "cell_type": "code",
   "execution_count": 10,
   "metadata": {},
   "outputs": [
    {
     "data": {
      "image/png": "[encoded data removed]",
      "text/plain": [
       "<Figure size 432x288 with 1 Axes>"
      ]
     },
     "metadata": {},
     "output_type": "display_data"
    }
   ],
   "source": [
    "plt.style.use(\"ggplot\")\n",
    "plt.figure()\n",
    "N = EPOCHS\n",
    "plt.plot(np.arange(0, N), H.history[\"loss\"], label=\"train_loss\")\n",
    "plt.plot(np.arange(0, N), H.history[\"val_loss\"], label=\"val_loss\")\n",
    "plt.plot(np.arange(0, N), H.history[\"accuracy\"], label=\"train_acc\")\n",
    "plt.plot(np.arange(0, N), H.history[\"val_accuracy\"], label=\"val_acc\")\n",
    "plt.title(\"Training Loss and Accuracy\")\n",
    "plt.xlabel(\"Epoch #\")\n",
    "plt.ylabel(\"Loss/Accuracy\")\n",
    "plt.legend(loc=\"upper left\");"
   ]
  },
  {
   "cell_type": "code",
   "execution_count": 11,
   "metadata": {},
   "outputs": [
    {
     "name": "stdout",
     "output_type": "stream",
     "text": [
      "              precision    recall  f1-score   support\n",
      "\n",
      "           1       0.93      0.72      0.81        18\n",
      "           5       0.44      0.78      0.56        18\n",
      "          10       0.62      0.78      0.69        23\n",
      "          20       0.79      0.33      0.47        33\n",
      "          50       0.80      0.57      0.67        14\n",
      "         100       0.64      0.79      0.71        38\n",
      "         200       0.89      0.84      0.86        37\n",
      "\n",
      "    accuracy                           0.69       181\n",
      "   macro avg       0.73      0.69      0.68       181\n",
      "weighted avg       0.73      0.69      0.69       181\n",
      "\n"
     ]
    }
   ],
   "source": [
    "from sklearn.metrics import classification_report\n",
    "\n",
    "preds = model.predict(testX)\n",
    "predIdxs = np.argmax(preds, axis=1)\n",
    "\n",
    "print(classification_report(testY, predIdxs, target_names=CLASSES.keys()))"
   ]
  },
  {
   "cell_type": "code",
   "execution_count": 12,
   "metadata": {},
   "outputs": [
    {
     "name": "stdout",
     "output_type": "stream",
     "text": [
      "INFO:tensorflow:Assets written to: C:\\Users\\Rawan\\AppData\\Local\\Temp\\tmpxu7hktsb\\assets\n"
     ]
    }
   ],
   "source": [
    "# Convert the model.\n",
    "converter = tf.lite.TFLiteConverter.from_keras_model(model)\n",
    "tflite_model = converter.convert()\n",
    "\n",
    "# Save the model.\n",
    "with open('C:/Users/Rawan/Desktop/Classification-Flutter-TFlite-master/assets/modelMobNet.tflite', 'wb') as f:\n",
    "    f.write(tflite_model)"
   ]
  },
  {
   "cell_type": "code",
   "execution_count": null,
   "metadata": {},
   "outputs": [],
   "source": []
  }
 ],
 "metadata": {
  "kernelspec": {
   "display_name": "Python 3",
   "language": "python",
   "name": "python3"
  },
  "language_info": {
   "codemirror_mode": {
    "name": "ipython",
    "version": 3
   },
   "file_extension": ".py",
   "mimetype": "text/x-python",
   "name": "python",
   "nbconvert_exporter": "python",
   "pygments_lexer": "ipython3",
   "version": "3.8.5"
  }
 },
 "nbformat": 4,
 "nbformat_minor": 4
}
