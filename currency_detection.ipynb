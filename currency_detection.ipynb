{
 "cells": [
  {
   "cell_type": "code",
   "execution_count": 2,
   "metadata": {},
   "outputs": [],
   "source": [
    "import numpy as np\n",
    "import matplotlib.pyplot as plt\n",
    "import os\n",
    "import cv2\n",
    "import random\n",
    "from tqdm import tqdm\n",
    "\n",
    "import tensorflow as tf\n",
    "from tensorflow.keras.models import Sequential\n",
    "from tensorflow.keras.layers import Dense, Activation, Flatten, Conv2D, MaxPooling2D, BatchNormalization, Dropout\n",
    "\n",
    "from sklearn.model_selection import train_test_split\n",
    "from tensorflow.keras.preprocessing.image import ImageDataGenerator"
   ]
  },
  {
   "cell_type": "code",
   "execution_count": 3,
   "metadata": {},
   "outputs": [],
   "source": [
    "DATADIR = \"C:/Users/Rawan/Desktop/Classification-Flutter-TFlite-master/Currency/\"\n",
    "CATEGORIE = [\"5\", \"10\", \"20\", \"50\", \"100\", \"200\"]\n",
    "CLASSES = {\n",
    "    '1': 0,\n",
    "    '5': 1,\n",
    "    '10': 2,\n",
    "    '20': 3,\n",
    "    '50': 4,\n",
    "    '100': 5,\n",
    "    '200': 6\n",
    "}"
   ]
  },
  {
   "cell_type": "code",
   "execution_count": 4,
   "metadata": {},
   "outputs": [
    {
     "name": "stdout",
     "output_type": "stream",
     "text": [
      "Data shape: (901, 128, 128, 3)\n",
      "Labels shape: (901,)\n"
     ]
    }
   ],
   "source": [
    "dataset = []\n",
    "\n",
    "for cat in os.listdir(DATADIR):\n",
    "    path = os.path.join(DATADIR, cat)\n",
    "    for img_path in os.listdir(path):\n",
    "        img = cv2.imread(os.path.join(path, img_path))\n",
    "        img = cv2.resize(img, (128, 128))\n",
    "        img = img / 255.0\n",
    "        \n",
    "        lab = CLASSES[cat]\n",
    "        dataset.append([img, lab])\n",
    "\n",
    "random.seed(42)\n",
    "random.shuffle(dataset)\n",
    "\n",
    "data = []\n",
    "labels = []\n",
    "\n",
    "for d, l in dataset:\n",
    "    data.append(d)\n",
    "    labels.append(l)\n",
    "\n",
    "data = np.array(data)\n",
    "labels = np.array(labels)\n",
    "    \n",
    "print(\"Data shape:\", data.shape)\n",
    "print(\"Labels shape:\", labels.shape)"
   ]
  },
  {
   "cell_type": "code",
   "execution_count": 5,
   "metadata": {},
   "outputs": [
    {
     "name": "stdout",
     "output_type": "stream",
     "text": [
      "(720, 128, 128, 3)\n",
      "(720,)\n",
      "(181, 128, 128, 3)\n",
      "(181,)\n"
     ]
    }
   ],
   "source": [
    "(trainX, testX, trainY, testY) = train_test_split(data, labels, test_size=0.2, random_state=42, stratify=labels)\n",
    "\n",
    "print(trainX.shape)\n",
    "print(trainY.shape)\n",
    "print(testX.shape)\n",
    "print(testY.shape)"
   ]
  },
  {
   "cell_type": "code",
   "execution_count": 6,
   "metadata": {},
   "outputs": [
    {
     "data": {
      "image/png": "[encoded data removed]",
      "text/plain": [
       "<Figure size 432x288 with 1 Axes>"
      ]
     },
     "metadata": {
      "needs_background": "light"
     },
     "output_type": "display_data"
    }
   ],
   "source": [
    "import seaborn as sns\n",
    "\n",
    "sns.countplot(x=labels);"
   ]
  },
  {
   "cell_type": "code",
   "execution_count": 7,
   "metadata": {},
   "outputs": [
    {
     "data": {
      "image/png": "[encoded data removed]",
      "text/plain": [
       "<Figure size 432x288 with 1 Axes>"
      ]
     },
     "metadata": {
      "needs_background": "light"
     },
     "output_type": "display_data"
    }
   ],
   "source": [
    "sns.countplot(x=trainY);"
   ]
  },
  {
   "cell_type": "code",
   "execution_count": 8,
   "metadata": {},
   "outputs": [
    {
     "data": {
      "image/png": "[encoded data removed]",
      "text/plain": [
       "<Figure size 432x288 with 1 Axes>"
      ]
     },
     "metadata": {
      "needs_background": "light"
     },
     "output_type": "display_data"
    }
   ],
   "source": [
    "sns.countplot(x=testY);"
   ]
  },
  {
   "cell_type": "code",
   "execution_count": 9,
   "metadata": {},
   "outputs": [
    {
     "name": "stdout",
     "output_type": "stream",
     "text": [
      "Model: \"sequential\"\n",
      "_________________________________________________________________\n",
      "Layer (type)                 Output Shape              Param #   \n",
      "=================================================================\n",
      "conv2d (Conv2D)              (None, 128, 128, 64)      1792      \n",
      "_________________________________________________________________\n",
      "activation (Activation)      (None, 128, 128, 64)      0         \n",
      "_________________________________________________________________\n",
      "max_pooling2d (MaxPooling2D) (None, 64, 64, 64)        0         \n",
      "_________________________________________________________________\n",
      "conv2d_1 (Conv2D)            (None, 64, 64, 128)       73856     \n",
      "_________________________________________________________________\n",
      "activation_1 (Activation)    (None, 64, 64, 128)       0         \n",
      "_________________________________________________________________\n",
      "max_pooling2d_1 (MaxPooling2 (None, 32, 32, 128)       0         \n",
      "_________________________________________________________________\n",
      "conv2d_2 (Conv2D)            (None, 32, 32, 256)       295168    \n",
      "_________________________________________________________________\n",
      "activation_2 (Activation)    (None, 32, 32, 256)       0         \n",
      "_________________________________________________________________\n",
      "max_pooling2d_2 (MaxPooling2 (None, 16, 16, 256)       0         \n",
      "_________________________________________________________________\n",
      "flatten (Flatten)            (None, 65536)             0         \n",
      "_________________________________________________________________\n",
      "dense (Dense)                (None, 64)                4194368   \n",
      "_________________________________________________________________\n",
      "dropout (Dropout)            (None, 64)                0         \n",
      "_________________________________________________________________\n",
      "dense_1 (Dense)              (None, 7)                 455       \n",
      "_________________________________________________________________\n",
      "activation_3 (Activation)    (None, 7)                 0         \n",
      "=================================================================\n",
      "Total params: 4,565,639\n",
      "Trainable params: 4,565,639\n",
      "Non-trainable params: 0\n",
      "_________________________________________________________________\n"
     ]
    }
   ],
   "source": [
    "model= Sequential()\n",
    "\n",
    "model.add(Conv2D(64,(3,3), padding='same', input_shape = data.shape[1:]))\n",
    "#model.add(BatchNormalization())\n",
    "model.add(Activation(\"relu\"))\n",
    "model.add(MaxPooling2D(pool_size=(2,2)))\n",
    "\n",
    "model.add(Conv2D(128, (3,3), padding='same'))\n",
    "#model.add(BatchNormalization())\n",
    "model.add(Activation(\"relu\"))\n",
    "model.add(MaxPooling2D(pool_size=(2,2)))\n",
    "\n",
    "model.add(Conv2D(256, (3,3), padding='same'))\n",
    "#model.add(BatchNormalization())\n",
    "model.add(Activation(\"relu\"))\n",
    "model.add(MaxPooling2D(pool_size=(2,2)))\n",
    "\n",
    "model.add(Flatten())\n",
    "model.add(Dense(64))\n",
    "model.add(Dropout(0.5))\n",
    "\n",
    "model.add(Dense(len(CLASSES)))\n",
    "model.add(Activation('softmax'))\n",
    "\n",
    "model.compile(loss='sparse_categorical_crossentropy', optimizer='adam', metrics=['accuracy'])\n",
    "\n",
    "aug = ImageDataGenerator(rotation_range=25, width_shift_range=0.1, \n",
    "                         height_shift_range=0.1, shear_range=0.2, zoom_range=0.2, \n",
    "                         horizontal_flip=True, fill_mode=\"nearest\")\n",
    "\n",
    "model.summary()"
   ]
  },
  {
   "cell_type": "code",
   "execution_count": 10,
   "metadata": {},
   "outputs": [
    {
     "name": "stdout",
     "output_type": "stream",
     "text": [
      "Epoch 1/60\n",
      "22/22 [==============================] - 43s 2s/step - loss: 2.6244 - accuracy: 0.2043 - val_loss: 1.9221 - val_accuracy: 0.2652\n",
      "Epoch 2/60\n",
      "22/22 [==============================] - 34s 2s/step - loss: 1.9022 - accuracy: 0.2036 - val_loss: 1.8270 - val_accuracy: 0.2155\n",
      "Epoch 3/60\n",
      "22/22 [==============================] - 34s 2s/step - loss: 1.8213 - accuracy: 0.2347 - val_loss: 1.7071 - val_accuracy: 0.3536\n",
      "Epoch 4/60\n",
      "22/22 [==============================] - 35s 2s/step - loss: 1.7756 - accuracy: 0.2600 - val_loss: 1.6815 - val_accuracy: 0.3370\n",
      "Epoch 5/60\n",
      "22/22 [==============================] - 34s 2s/step - loss: 1.7750 - accuracy: 0.2781 - val_loss: 1.6082 - val_accuracy: 0.3923\n",
      "Epoch 6/60\n",
      "22/22 [==============================] - 34s 2s/step - loss: 1.6951 - accuracy: 0.3124 - val_loss: 1.6040 - val_accuracy: 0.3646\n",
      "Epoch 7/60\n",
      "22/22 [==============================] - 34s 2s/step - loss: 1.6557 - accuracy: 0.3368 - val_loss: 1.5086 - val_accuracy: 0.4033\n",
      "Epoch 8/60\n",
      "22/22 [==============================] - 34s 2s/step - loss: 1.5614 - accuracy: 0.3928 - val_loss: 1.4966 - val_accuracy: 0.4199\n",
      "Epoch 9/60\n",
      "22/22 [==============================] - 34s 2s/step - loss: 1.6540 - accuracy: 0.3356 - val_loss: 1.4775 - val_accuracy: 0.4254\n",
      "Epoch 10/60\n",
      "22/22 [==============================] - 35s 2s/step - loss: 1.5638 - accuracy: 0.3824 - val_loss: 1.4823 - val_accuracy: 0.4586\n",
      "Epoch 11/60\n",
      "22/22 [==============================] - 38s 2s/step - loss: 1.5421 - accuracy: 0.3767 - val_loss: 1.5234 - val_accuracy: 0.4420\n",
      "Epoch 12/60\n",
      "22/22 [==============================] - 37s 2s/step - loss: 1.4509 - accuracy: 0.4134 - val_loss: 1.4050 - val_accuracy: 0.4917\n",
      "Epoch 13/60\n",
      "22/22 [==============================] - 36s 2s/step - loss: 1.4290 - accuracy: 0.4333 - val_loss: 1.3853 - val_accuracy: 0.4641\n",
      "Epoch 14/60\n",
      "22/22 [==============================] - 38s 2s/step - loss: 1.4694 - accuracy: 0.4260 - val_loss: 1.5549 - val_accuracy: 0.4862\n",
      "Epoch 15/60\n",
      "22/22 [==============================] - 35s 2s/step - loss: 1.4932 - accuracy: 0.4232 - val_loss: 1.5318 - val_accuracy: 0.4530\n",
      "Epoch 16/60\n",
      "22/22 [==============================] - 35s 2s/step - loss: 1.4678 - accuracy: 0.4152 - val_loss: 1.3296 - val_accuracy: 0.4862\n",
      "Epoch 17/60\n",
      "22/22 [==============================] - 35s 2s/step - loss: 1.3448 - accuracy: 0.5108 - val_loss: 1.3982 - val_accuracy: 0.4751\n",
      "Epoch 18/60\n",
      "22/22 [==============================] - 35s 2s/step - loss: 1.3412 - accuracy: 0.5123 - val_loss: 1.3616 - val_accuracy: 0.5193\n",
      "Epoch 19/60\n",
      "22/22 [==============================] - 37s 2s/step - loss: 1.3498 - accuracy: 0.4784 - val_loss: 1.2492 - val_accuracy: 0.5691\n",
      "Epoch 20/60\n",
      "22/22 [==============================] - 35s 2s/step - loss: 1.3097 - accuracy: 0.5226 - val_loss: 1.2483 - val_accuracy: 0.5525\n",
      "Epoch 21/60\n",
      "22/22 [==============================] - 37s 2s/step - loss: 1.3848 - accuracy: 0.4967 - val_loss: 1.2778 - val_accuracy: 0.5249\n",
      "Epoch 22/60\n",
      "22/22 [==============================] - 36s 2s/step - loss: 1.3085 - accuracy: 0.5012 - val_loss: 1.2653 - val_accuracy: 0.5359\n",
      "Epoch 23/60\n",
      "22/22 [==============================] - 35s 2s/step - loss: 1.2935 - accuracy: 0.5111 - val_loss: 1.1822 - val_accuracy: 0.5359\n",
      "Epoch 24/60\n",
      "22/22 [==============================] - 35s 2s/step - loss: 1.2872 - accuracy: 0.5043 - val_loss: 1.4089 - val_accuracy: 0.5304\n",
      "Epoch 25/60\n",
      "22/22 [==============================] - 35s 2s/step - loss: 1.2038 - accuracy: 0.5417 - val_loss: 1.2153 - val_accuracy: 0.5580\n",
      "Epoch 26/60\n",
      "22/22 [==============================] - 35s 2s/step - loss: 1.1510 - accuracy: 0.5483 - val_loss: 1.1881 - val_accuracy: 0.5912\n",
      "Epoch 27/60\n",
      "22/22 [==============================] - 35s 2s/step - loss: 1.1255 - accuracy: 0.6085 - val_loss: 1.1772 - val_accuracy: 0.5470\n",
      "Epoch 28/60\n",
      "22/22 [==============================] - 38s 2s/step - loss: 1.2711 - accuracy: 0.5032 - val_loss: 1.1149 - val_accuracy: 0.5967\n",
      "Epoch 29/60\n",
      "22/22 [==============================] - 39s 2s/step - loss: 1.1611 - accuracy: 0.5842 - val_loss: 1.1875 - val_accuracy: 0.6022\n",
      "Epoch 30/60\n",
      "22/22 [==============================] - 39s 2s/step - loss: 1.2405 - accuracy: 0.5357 - val_loss: 1.3094 - val_accuracy: 0.5691\n",
      "Epoch 31/60\n",
      "22/22 [==============================] - 39s 2s/step - loss: 1.1403 - accuracy: 0.5821 - val_loss: 1.1913 - val_accuracy: 0.5691\n",
      "Epoch 32/60\n",
      "22/22 [==============================] - 39s 2s/step - loss: 1.2075 - accuracy: 0.5774 - val_loss: 1.1660 - val_accuracy: 0.5856\n",
      "Epoch 33/60\n",
      "22/22 [==============================] - 39s 2s/step - loss: 1.1696 - accuracy: 0.5718 - val_loss: 1.2096 - val_accuracy: 0.5635\n",
      "Epoch 34/60\n",
      "22/22 [==============================] - 39s 2s/step - loss: 1.0177 - accuracy: 0.6389 - val_loss: 1.4671 - val_accuracy: 0.5967\n",
      "Epoch 35/60\n",
      "22/22 [==============================] - 39s 2s/step - loss: 1.0117 - accuracy: 0.6269 - val_loss: 1.2080 - val_accuracy: 0.6022\n",
      "Epoch 36/60\n",
      "22/22 [==============================] - 41s 2s/step - loss: 0.9653 - accuracy: 0.6852 - val_loss: 1.0548 - val_accuracy: 0.6077\n",
      "Epoch 37/60\n",
      "22/22 [==============================] - 44s 2s/step - loss: 0.9561 - accuracy: 0.6703 - val_loss: 1.0143 - val_accuracy: 0.6188\n",
      "Epoch 38/60\n",
      "22/22 [==============================] - 41s 2s/step - loss: 1.0195 - accuracy: 0.6279 - val_loss: 1.0640 - val_accuracy: 0.6133\n",
      "Epoch 39/60\n",
      "22/22 [==============================] - 43s 2s/step - loss: 0.9367 - accuracy: 0.6696 - val_loss: 1.6211 - val_accuracy: 0.5691\n",
      "Epoch 40/60\n",
      "22/22 [==============================] - 40s 2s/step - loss: 1.0290 - accuracy: 0.6177 - val_loss: 0.9558 - val_accuracy: 0.6630\n",
      "Epoch 41/60\n",
      "22/22 [==============================] - 39s 2s/step - loss: 0.8499 - accuracy: 0.6988 - val_loss: 1.3811 - val_accuracy: 0.5746\n",
      "Epoch 42/60\n",
      "22/22 [==============================] - 41s 2s/step - loss: 0.9049 - accuracy: 0.6868 - val_loss: 1.1069 - val_accuracy: 0.6575\n",
      "Epoch 43/60\n",
      "22/22 [==============================] - 39s 2s/step - loss: 0.8162 - accuracy: 0.7123 - val_loss: 1.2061 - val_accuracy: 0.7017\n",
      "Epoch 44/60\n",
      "22/22 [==============================] - 39s 2s/step - loss: 1.0135 - accuracy: 0.6538 - val_loss: 1.2031 - val_accuracy: 0.6630\n",
      "Epoch 45/60\n",
      "22/22 [==============================] - 39s 2s/step - loss: 0.8693 - accuracy: 0.7287 - val_loss: 1.4359 - val_accuracy: 0.6409\n",
      "Epoch 46/60\n",
      "22/22 [==============================] - 39s 2s/step - loss: 0.9375 - accuracy: 0.7024 - val_loss: 1.1117 - val_accuracy: 0.6409\n",
      "Epoch 47/60\n",
      "22/22 [==============================] - 38s 2s/step - loss: 0.9029 - accuracy: 0.6869 - val_loss: 1.0211 - val_accuracy: 0.6851\n",
      "Epoch 48/60\n",
      "22/22 [==============================] - 39s 2s/step - loss: 0.7500 - accuracy: 0.7604 - val_loss: 1.2472 - val_accuracy: 0.6077\n",
      "Epoch 49/60\n",
      "22/22 [==============================] - 39s 2s/step - loss: 0.7787 - accuracy: 0.7474 - val_loss: 1.4181 - val_accuracy: 0.6519\n",
      "Epoch 50/60\n",
      "22/22 [==============================] - 39s 2s/step - loss: 0.7621 - accuracy: 0.7194 - val_loss: 0.9748 - val_accuracy: 0.6630\n",
      "Epoch 51/60\n",
      "22/22 [==============================] - 39s 2s/step - loss: 0.7073 - accuracy: 0.7569 - val_loss: 1.0569 - val_accuracy: 0.7072\n",
      "Epoch 52/60\n",
      "22/22 [==============================] - 39s 2s/step - loss: 0.7748 - accuracy: 0.7182 - val_loss: 1.0494 - val_accuracy: 0.6851\n",
      "Epoch 53/60\n",
      "22/22 [==============================] - 39s 2s/step - loss: 0.7268 - accuracy: 0.7552 - val_loss: 1.3845 - val_accuracy: 0.6630\n",
      "Epoch 54/60\n",
      "22/22 [==============================] - 39s 2s/step - loss: 0.6587 - accuracy: 0.7466 - val_loss: 0.8912 - val_accuracy: 0.6961\n",
      "Epoch 55/60\n",
      "22/22 [==============================] - 42s 2s/step - loss: 0.6957 - accuracy: 0.7529 - val_loss: 1.1120 - val_accuracy: 0.7072\n",
      "Epoch 56/60\n",
      "22/22 [==============================] - 39s 2s/step - loss: 0.7706 - accuracy: 0.7262 - val_loss: 0.9713 - val_accuracy: 0.6961\n",
      "Epoch 57/60\n",
      "22/22 [==============================] - 39s 2s/step - loss: 0.6923 - accuracy: 0.7603 - val_loss: 0.9055 - val_accuracy: 0.7182\n",
      "Epoch 58/60\n",
      "22/22 [==============================] - 39s 2s/step - loss: 0.6726 - accuracy: 0.7573 - val_loss: 1.0779 - val_accuracy: 0.6906\n",
      "Epoch 59/60\n"
     ]
    },
    {
     "name": "stdout",
     "output_type": "stream",
     "text": [
      "22/22 [==============================] - 40s 2s/step - loss: 0.7752 - accuracy: 0.7261 - val_loss: 1.1836 - val_accuracy: 0.7017\n",
      "Epoch 60/60\n",
      "22/22 [==============================] - 39s 2s/step - loss: 0.7560 - accuracy: 0.7217 - val_loss: 1.0066 - val_accuracy: 0.6961\n"
     ]
    }
   ],
   "source": [
    "EPOCHS = 60\n",
    "\n",
    "H = model.fit(aug.flow(trainX, trainY, batch_size=32), \n",
    "             validation_data=(testX, testY), \n",
    "             steps_per_epoch=len(trainX) // 32,\n",
    "             epochs=EPOCHS, verbose=1)\n",
    "\n",
    "#H = model.fit(trainX, trainY, validation_data=(testX, testY), epochs=20, verbose=1)"
   ]
  },
  {
   "cell_type": "code",
   "execution_count": 11,
   "metadata": {},
   "outputs": [
    {
     "data": {
      "image/png": "[encoded data removed]",
      "text/plain": [
       "<Figure size 432x288 with 1 Axes>"
      ]
     },
     "metadata": {},
     "output_type": "display_data"
    }
   ],
   "source": [
    "plt.style.use(\"ggplot\")\n",
    "plt.figure()\n",
    "N = EPOCHS\n",
    "plt.plot(np.arange(0, N), H.history[\"loss\"], label=\"train_loss\")\n",
    "plt.plot(np.arange(0, N), H.history[\"val_loss\"], label=\"val_loss\")\n",
    "plt.plot(np.arange(0, N), H.history[\"accuracy\"], label=\"train_acc\")\n",
    "plt.plot(np.arange(0, N), H.history[\"val_accuracy\"], label=\"val_acc\")\n",
    "plt.title(\"Training Loss and Accuracy\")\n",
    "plt.xlabel(\"Epoch #\")\n",
    "plt.ylabel(\"Loss/Accuracy\")\n",
    "plt.legend(loc=\"upper left\");"
   ]
  },
  {
   "cell_type": "code",
   "execution_count": 12,
   "metadata": {},
   "outputs": [
    {
     "name": "stdout",
     "output_type": "stream",
     "text": [
      "              precision    recall  f1-score   support\n",
      "\n",
      "           1       0.94      0.83      0.88        18\n",
      "           5       0.40      0.22      0.29        18\n",
      "          10       0.77      0.43      0.56        23\n",
      "          20       0.79      0.58      0.67        33\n",
      "          50       0.55      0.86      0.67        14\n",
      "         100       0.65      0.92      0.76        38\n",
      "         200       0.74      0.84      0.78        37\n",
      "\n",
      "    accuracy                           0.70       181\n",
      "   macro avg       0.69      0.67      0.66       181\n",
      "weighted avg       0.70      0.70      0.68       181\n",
      "\n"
     ]
    }
   ],
   "source": [
    "from sklearn.metrics import classification_report\n",
    "\n",
    "preds = model.predict(testX)\n",
    "predIdxs = np.argmax(preds, axis=1)\n",
    "\n",
    "print(classification_report(testY, predIdxs, target_names=CLASSES.keys()))"
   ]
  },
  {
   "cell_type": "code",
   "execution_count": 13,
   "metadata": {},
   "outputs": [
    {
     "name": "stdout",
     "output_type": "stream",
     "text": [
      "INFO:tensorflow:Assets written to: C:\\Users\\Rawan\\AppData\\Local\\Temp\\tmp_m_ltb1f\\assets\n"
     ]
    }
   ],
   "source": [
    "# Convert the model.\n",
    "converter = tf.lite.TFLiteConverter.from_keras_model(model)\n",
    "tflite_model = converter.convert()\n",
    "\n",
    "# Save the model.\n",
    "with open('C:/Users/Rawan/Desktop/Classification-Flutter-TFlite-master/assets/model.tflite', 'wb') as f:\n",
    "    f.write(tflite_model)"
   ]
  },
  {
   "cell_type": "code",
   "execution_count": null,
   "metadata": {},
   "outputs": [],
   "source": []
  }
 ],
 "metadata": {
  "kernelspec": {
   "display_name": "Python 3",
   "language": "python",
   "name": "python3"
  },
  "language_info": {
   "codemirror_mode": {
    "name": "ipython",
    "version": 3
   },
   "file_extension": ".py",
   "mimetype": "text/x-python",
   "name": "python",
   "nbconvert_exporter": "python",
   "pygments_lexer": "ipython3",
   "version": "3.8.5"
  }
 },
 "nbformat": 4,
 "nbformat_minor": 4
}
